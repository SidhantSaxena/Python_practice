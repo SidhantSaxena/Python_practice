{
  "nbformat": 4,
  "nbformat_minor": 0,
  "metadata": {
    "colab": {
      "name": "Linked_list.ipynb",
      "provenance": [],
      "collapsed_sections": [],
      "authorship_tag": "ABX9TyNS4wfYTDi9oTJr+bglab1P",
      "include_colab_link": true
    },
    "kernelspec": {
      "name": "python3",
      "display_name": "Python 3"
    }
  },
  "cells": [
    {
      "cell_type": "markdown",
      "metadata": {
        "id": "view-in-github",
        "colab_type": "text"
      },
      "source": [
        "<a href=\"https://colab.research.google.com/github/SidhantSaxena/HackerRank_Python_practice/blob/main/Linked_list.ipynb\" target=\"_parent\"><img src=\"https://colab.research.google.com/assets/colab-badge.svg\" alt=\"Open In Colab\"/></a>"
      ]
    },
    {
      "cell_type": "code",
      "metadata": {
        "colab": {
          "base_uri": "https://localhost:8080/"
        },
        "id": "CRRdHqxljZh8",
        "outputId": "cd8c934e-2bdc-4a86-f3ce-89270f061c1b"
      },
      "source": [
        "class linked_list:\r\n",
        "    class Node:\r\n",
        "        def __init__(self,element):\r\n",
        "            self.element=element\r\n",
        "            self.nex=None\r\n",
        "\r\n",
        "    def __init__(self):\r\n",
        "        self.head=None\r\n",
        "        self.tail=None\r\n",
        "        self.size=0\r\n",
        "\r\n",
        "    def addFirst(self,e):\r\n",
        "        node = self.Node(e)\r\n",
        "        if self.size==0:\r\n",
        "            self.head=node\r\n",
        "            self.tail=node\r\n",
        "        elif self.size>0:\r\n",
        "            node.nex=self.head\r\n",
        "        self.head = node\r\n",
        "        self.size+=1\r\n",
        "\r\n",
        "    def addLast(self,e):\r\n",
        "      node = self.Node(e)\r\n",
        "      if self.size==0:\r\n",
        "        self.head=node\r\n",
        "        self.tail=node\r\n",
        "      elif self.size>0:\r\n",
        "        self.tail.nex=node\r\n",
        "      self.tail=node\r\n",
        "      self.size+=1  \r\n",
        "\r\n",
        "    def removeFirst(self):\r\n",
        "      if self.size==0:\r\n",
        "        self.tail=None\r\n",
        "        self.head=None\r\n",
        "      else:\r\n",
        "        self.head=self.head.nex\r\n",
        "      self.size-=1  \r\n",
        "\r\n",
        "    def removeLast(self):\r\n",
        "       if self.size==0:\r\n",
        "          self.tail=None\r\n",
        "          self.head=None\r\n",
        "       else:\r\n",
        "         self.tail=None\r\n",
        "         th=self.head\r\n",
        "         for i in range(self.size-2):\r\n",
        "            th = th.nex\r\n",
        "         th.nex=None\r\n",
        "         self.tail=th \r\n",
        "         self.size-=1  \r\n",
        "\r\n",
        "    def display(self):\r\n",
        "        th=self.head\r\n",
        "        while th:\r\n",
        "            print(f\"{th.element}--->\",end=\"\")\r\n",
        "            th=th.nex\r\n",
        "        print()\r\n",
        "\r\n",
        "link=linked_list()\r\n",
        "link.addFirst(23)\r\n",
        "link.display()\r\n",
        "link.addFirst(24)\r\n",
        "link.display()\r\n",
        "link.addLast(12)\r\n",
        "link.display()\r\n",
        "link.removeFirst()\r\n",
        "link.display()\r\n",
        "link.removeLast()\r\n",
        "link.display()\r\n",
        "link.addLast(34)\r\n",
        "link.display()\r\n",
        "link.addFirst(90)\r\n",
        "link.display()"
      ],
      "execution_count": 27,
      "outputs": [
        {
          "output_type": "stream",
          "text": [
            "23--->\n",
            "24--->23--->\n",
            "24--->23--->12--->\n",
            "23--->12--->\n",
            "23--->\n",
            "23--->34--->\n",
            "90--->23--->34--->\n"
          ],
          "name": "stdout"
        }
      ]
    }
  ]
}